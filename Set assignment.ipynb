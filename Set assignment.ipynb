{
 "cells": [
  {
   "cell_type": "markdown",
   "id": "13618043-cd0f-40a5-a1da-729bf49b7d37",
   "metadata": {},
   "source": [
    "Python - Sets assignment"
   ]
  },
  {
   "cell_type": "markdown",
   "id": "94e7f200-7ccf-4aec-9a31-b5714c2e7733",
   "metadata": {},
   "source": [
    "Question 1 - What is a set in python?"
   ]
  },
  {
   "cell_type": "raw",
   "id": "d755121c-e5d1-4aac-97ab-03d3f241a8b8",
   "metadata": {},
   "source": [
    "Answer 1- A set of unordered collection of unique and immutable objects it is repesented by cury braces{} enclosing a comma-seprated list of values or by using the built-in set()funcation\n",
    "Sets are used for membership testing, removing duplicates from a sequence and mathematical operations like unoin,intersection and differnce"
   ]
  },
  {
   "cell_type": "code",
   "execution_count": 1,
   "id": "a6a7701d-7565-4233-bbe8-ea31c05f2f47",
   "metadata": {},
   "outputs": [],
   "source": [
    "a = {1, 2, 3, 4, 5}"
   ]
  },
  {
   "cell_type": "code",
   "execution_count": 2,
   "id": "97446211-1a27-416e-b846-a46a20d4ac63",
   "metadata": {},
   "outputs": [
    {
     "data": {
      "text/plain": [
       "set"
      ]
     },
     "execution_count": 2,
     "metadata": {},
     "output_type": "execute_result"
    }
   ],
   "source": [
    "type(a)"
   ]
  },
  {
   "cell_type": "markdown",
   "id": "cb6d4827-b15a-4a98-ac71-a2ebd09d5a74",
   "metadata": {},
   "source": [
    "Question 2- How do you create a set in python?"
   ]
  },
  {
   "cell_type": "markdown",
   "id": "b7891fa1-00c2-47de-82e0-6a30f7df84a0",
   "metadata": {},
   "source": [
    "Answer 2- These are a few differance ways to create a set\n",
    "\n",
    "1- Using curly braces{} and separating each element with a comma"
   ]
  },
  {
   "cell_type": "code",
   "execution_count": 3,
   "id": "0e778f21-4adb-4088-b488-739a6c478b8f",
   "metadata": {},
   "outputs": [],
   "source": [
    "a = {1,2,3,4,5}"
   ]
  },
  {
   "cell_type": "markdown",
   "id": "3d8f9edb-1a69-4924-a72f-cc941787abad",
   "metadata": {},
   "source": [
    "2- Using the built-in set() funcation and passing in an iterable, such as a list or tuple"
   ]
  },
  {
   "cell_type": "code",
   "execution_count": 4,
   "id": "621e7bde-5cb4-4ac1-a161-bb510ed44ddd",
   "metadata": {},
   "outputs": [],
   "source": [
    "z=[1,2,3,45]"
   ]
  },
  {
   "cell_type": "code",
   "execution_count": 5,
   "id": "83a444ce-bdcc-40a2-b76f-96b95ab90173",
   "metadata": {},
   "outputs": [],
   "source": [
    "a= set(z)"
   ]
  },
  {
   "cell_type": "code",
   "execution_count": 6,
   "id": "60ed1ef8-efbe-499a-b4aa-1e738efa5b81",
   "metadata": {},
   "outputs": [
    {
     "data": {
      "text/plain": [
       "{1, 2, 3, 45}"
      ]
     },
     "execution_count": 6,
     "metadata": {},
     "output_type": "execute_result"
    }
   ],
   "source": [
    "a"
   ]
  },
  {
   "cell_type": "markdown",
   "id": "e09192e8-68c3-4f7d-8fc6-7325f5a0c80f",
   "metadata": {},
   "source": [
    "3- using the set() funcation with no arguments to create an empty set "
   ]
  },
  {
   "cell_type": "code",
   "execution_count": 7,
   "id": "1e10c6bc-7139-4e16-9a48-52fb8ec5945e",
   "metadata": {},
   "outputs": [],
   "source": [
    "a=set()"
   ]
  },
  {
   "cell_type": "code",
   "execution_count": 8,
   "id": "0fb58109-5db4-465a-80ea-e30055943b4f",
   "metadata": {},
   "outputs": [
    {
     "data": {
      "text/plain": [
       "set()"
      ]
     },
     "execution_count": 8,
     "metadata": {},
     "output_type": "execute_result"
    }
   ],
   "source": [
    "a"
   ]
  },
  {
   "cell_type": "markdown",
   "id": "976eabf7-7614-467e-80de-7bab43c4b434",
   "metadata": {},
   "source": [
    "Question 3- How do you add element to a set in python?"
   ]
  },
  {
   "cell_type": "markdown",
   "id": "7be87e4b-f9e4-4844-b030-7385fbf261f1",
   "metadata": {},
   "source": [
    "Answer 3- You can add a elenment to a set using the 'add()' method "
   ]
  },
  {
   "cell_type": "code",
   "execution_count": 9,
   "id": "b03c2ebf-a1b7-46b8-92f9-08c84fd059ca",
   "metadata": {},
   "outputs": [],
   "source": [
    "b= {1,2,3,4,5,6,7,8,9}"
   ]
  },
  {
   "cell_type": "code",
   "execution_count": 10,
   "id": "deee2e4c-1a2e-4639-a01a-240eaa4a900f",
   "metadata": {},
   "outputs": [],
   "source": [
    "b.add(0)"
   ]
  },
  {
   "cell_type": "code",
   "execution_count": 11,
   "id": "821760f1-8ec4-407f-b39e-49e7e79da4f4",
   "metadata": {},
   "outputs": [
    {
     "data": {
      "text/plain": [
       "{0, 1, 2, 3, 4, 5, 6, 7, 8, 9}"
      ]
     },
     "execution_count": 11,
     "metadata": {},
     "output_type": "execute_result"
    }
   ],
   "source": [
    "b"
   ]
  },
  {
   "cell_type": "markdown",
   "id": "203c5576-72ea-4ab6-920f-cc55dafe445c",
   "metadata": {},
   "source": [
    "If you try to add an element that already exists in the set, it will not be added again. this because sets only contain unique elements"
   ]
  },
  {
   "cell_type": "markdown",
   "id": "95d40287-fadf-42d9-ac27-113bb88364ff",
   "metadata": {},
   "source": [
    "Question 4- How do you remove elements from a set in python?"
   ]
  },
  {
   "cell_type": "markdown",
   "id": "400769c5-cafb-40b7-be29-767978e66f49",
   "metadata": {},
   "source": [
    "Answer 4- You have three method to remove elements"
   ]
  },
  {
   "cell_type": "markdown",
   "id": "868b3a3b-35cc-4604-9231-440048191326",
   "metadata": {},
   "source": [
    "1- Using the 'remove()' method remove the specific element from the set"
   ]
  },
  {
   "cell_type": "code",
   "execution_count": 13,
   "id": "4bdf9289-3a63-432d-95d6-2ac6ffea34a4",
   "metadata": {},
   "outputs": [],
   "source": [
    "r = {1,2,3,4,5}"
   ]
  },
  {
   "cell_type": "code",
   "execution_count": 15,
   "id": "f786e1d4-9a50-46b4-99da-e18d16742c22",
   "metadata": {},
   "outputs": [],
   "source": [
    "r.remove(4)"
   ]
  },
  {
   "cell_type": "code",
   "execution_count": 16,
   "id": "cfdbd459-f256-457a-8d65-e47199f8569d",
   "metadata": {},
   "outputs": [
    {
     "data": {
      "text/plain": [
       "{1, 2, 3, 5}"
      ]
     },
     "execution_count": 16,
     "metadata": {},
     "output_type": "execute_result"
    }
   ],
   "source": [
    "r"
   ]
  },
  {
   "cell_type": "markdown",
   "id": "50ddf9c6-6068-43b6-ac47-033d0b246f64",
   "metadata": {},
   "source": [
    "2- Using the 'discard()' method to remove the specified element from the set if it is present. if the element not present in set, it does not raise an error"
   ]
  },
  {
   "cell_type": "code",
   "execution_count": 17,
   "id": "ef637534-0568-4a79-85a4-fba0db2af107",
   "metadata": {},
   "outputs": [
    {
     "data": {
      "text/plain": [
       "{1, 2, 3, 5}"
      ]
     },
     "execution_count": 17,
     "metadata": {},
     "output_type": "execute_result"
    }
   ],
   "source": [
    "r"
   ]
  },
  {
   "cell_type": "code",
   "execution_count": 18,
   "id": "439e9c75-6a45-487f-ae31-4e0c5c4f0b8e",
   "metadata": {},
   "outputs": [],
   "source": [
    "r.discard(3)"
   ]
  },
  {
   "cell_type": "code",
   "execution_count": 19,
   "id": "c1bba3fd-cafa-47cb-86ba-b7891e7cf487",
   "metadata": {},
   "outputs": [
    {
     "data": {
      "text/plain": [
       "{1, 2, 5}"
      ]
     },
     "execution_count": 19,
     "metadata": {},
     "output_type": "execute_result"
    }
   ],
   "source": [
    "r"
   ]
  },
  {
   "cell_type": "markdown",
   "id": "948a165a-a654-4988-9025-be7da0accb7f",
   "metadata": {},
   "source": [
    "3- Using 'pop()' method  to remove and return an arbitrary element from the set"
   ]
  },
  {
   "cell_type": "code",
   "execution_count": 20,
   "id": "d324f0aa-060c-4466-9bd1-f0a77e898acc",
   "metadata": {},
   "outputs": [
    {
     "data": {
      "text/plain": [
       "{1, 2, 5}"
      ]
     },
     "execution_count": 20,
     "metadata": {},
     "output_type": "execute_result"
    }
   ],
   "source": [
    "r"
   ]
  },
  {
   "cell_type": "code",
   "execution_count": 21,
   "id": "41da7902-7c2c-4585-9d0c-66a5a5e6bd15",
   "metadata": {},
   "outputs": [
    {
     "data": {
      "text/plain": [
       "1"
      ]
     },
     "execution_count": 21,
     "metadata": {},
     "output_type": "execute_result"
    }
   ],
   "source": [
    "r.pop()"
   ]
  },
  {
   "cell_type": "code",
   "execution_count": 22,
   "id": "7aac57a6-89c4-464e-8d26-eef93a644c16",
   "metadata": {},
   "outputs": [
    {
     "data": {
      "text/plain": [
       "{2, 5}"
      ]
     },
     "execution_count": 22,
     "metadata": {},
     "output_type": "execute_result"
    }
   ],
   "source": [
    "r"
   ]
  },
  {
   "cell_type": "markdown",
   "id": "645493e9-0ce7-403c-b086-d309c61df2cf",
   "metadata": {},
   "source": [
    "Question 5- How do you get the length of a set in python?"
   ]
  },
  {
   "cell_type": "markdown",
   "id": "9bfba9af-0f77-4708-a87c-a0b792f66c8f",
   "metadata": {},
   "source": [
    "Answer 5- To get the length of a set, you can use the build- in \"len()\" funcation"
   ]
  },
  {
   "cell_type": "code",
   "execution_count": 23,
   "id": "7969dfba-384e-480b-bb22-ce84b5bc8659",
   "metadata": {},
   "outputs": [],
   "source": [
    "g = {1,2,3,4,5}"
   ]
  },
  {
   "cell_type": "code",
   "execution_count": 24,
   "id": "fc6c0d25-eed0-4b7f-8c22-4c972bab6609",
   "metadata": {},
   "outputs": [
    {
     "data": {
      "text/plain": [
       "5"
      ]
     },
     "execution_count": 24,
     "metadata": {},
     "output_type": "execute_result"
    }
   ],
   "source": [
    "len(g)"
   ]
  },
  {
   "cell_type": "markdown",
   "id": "97b506ad-7b26-481d-86b1-018bf47029b6",
   "metadata": {},
   "source": [
    "Assignent completed"
   ]
  }
 ],
 "metadata": {
  "kernelspec": {
   "display_name": "Python 3 (ipykernel)",
   "language": "python",
   "name": "python3"
  },
  "language_info": {
   "codemirror_mode": {
    "name": "ipython",
    "version": 3
   },
   "file_extension": ".py",
   "mimetype": "text/x-python",
   "name": "python",
   "nbconvert_exporter": "python",
   "pygments_lexer": "ipython3",
   "version": "3.10.8"
  }
 },
 "nbformat": 4,
 "nbformat_minor": 5
}
